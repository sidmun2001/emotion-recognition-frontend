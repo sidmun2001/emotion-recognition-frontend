{
  "nbformat": 4,
  "nbformat_minor": 0,
  "metadata": {
    "colab": {
      "provenance": []
    },
    "kernelspec": {
      "name": "python3",
      "display_name": "Python 3"
    },
    "language_info": {
      "name": "python"
    }
  },
  "cells": [
    {
      "cell_type": "markdown",
      "source": [
        "Use FER2013 API to test FER2013 dataset (use existing model code)"
      ],
      "metadata": {
        "id": "cMJqHJoPPHTC"
      }
    },
    {
      "cell_type": "code",
      "source": [],
      "metadata": {
        "id": "FFXqSwdWV9O6"
      },
      "execution_count": null,
      "outputs": []
    }
  ]
}